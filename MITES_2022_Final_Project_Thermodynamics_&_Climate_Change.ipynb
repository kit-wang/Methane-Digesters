{
  "cells": [
    {
      "cell_type": "code",
      "execution_count": 47,
      "metadata": {
        "colab": {
          "base_uri": "https://localhost:8080/"
        },
        "id": "0dM54caI5eOC",
        "outputId": "402b2c42-96f2-4562-c3fe-002bb2793a02"
      },
      "outputs": [
        {
          "output_type": "stream",
          "name": "stdout",
          "text": [
            "Looking in indexes: https://pypi.org/simple, https://us-python.pkg.dev/colab-wheels/public/simple/\n",
            "Requirement already satisfied: coolprop in /usr/local/lib/python3.7/dist-packages (6.4.1)\n",
            "Looking in indexes: https://pypi.org/simple, https://us-python.pkg.dev/colab-wheels/public/simple/\n",
            "Collecting git+https://github.com/ptgodart/nasaPoly.git\n",
            "  Cloning https://github.com/ptgodart/nasaPoly.git to /tmp/pip-req-build-tcfjt4kg\n",
            "  Running command git clone -q https://github.com/ptgodart/nasaPoly.git /tmp/pip-req-build-tcfjt4kg\n"
          ]
        }
      ],
      "source": [
        "!pip3 install coolprop\n",
        "!pip3 install --upgrade git+https://github.com/ptgodart/nasaPoly.git\n",
        "from CoolProp.constants import PT_INPUTS\n",
        "import CoolProp as cp\n",
        "import numpy as np\n",
        "from matplotlib import pyplot as plt\n",
        "import nasaPoly\n"
      ]
    },
    {
      "cell_type": "markdown",
      "source": [
        "# Efficiency Evaluation of Biogas Applications as Fuel\n",
        "A side-by-side comparison with existing nonrenewable fuel sources"
      ],
      "metadata": {
        "id": "Vl4kR5wdhmFD"
      }
    },
    {
      "cell_type": "code",
      "source": [
        "# Parameterization & Initialization\n",
        "\n",
        "Temperature = 298.15 # K\n",
        "Coal = nasaPoly.Species('C')\n",
        "O2 = nasaPoly.Species('O2')\n",
        "CO2 = nasaPoly.Species('CO2')\n",
        "C8H18 = nasaPoly.Species('C8H18(L),isooct')\n",
        "H2O_g = nasaPoly.Species('H2O')\n",
        "C3H8 = nasaPoly.Species('C3H8')\n",
        "CH4 = nasaPoly.Species('CH4')\n",
        "\n",
        "molar_energies = list()\n",
        "carbon_intensities = list()"
      ],
      "metadata": {
        "id": "NkSNKhxLoXQo"
      },
      "execution_count": 48,
      "outputs": []
    },
    {
      "cell_type": "code",
      "source": [
        "# Biogas combustion efficiency\n",
        "# combustion energy yield per one mole of biogas under constant pressure\n",
        "# ---------------------------------------------------\n",
        "# Based on a separation of species in biogas to 98% CH4, 2.0% CO2\n",
        "# 9.8 * CH4 + 0.2 * CO2 + 19.6 * O2 -> (9.8 + 0.2) * CO2 + 19.6 * H2O(g)\n",
        "h_products = 10 * CO2.h_0(Temperature) + 19.6 * H2O_g.h_0(Temperature) # J/mol\n",
        "h_reactants = 9.8 * CH4.h_0(Temperature) + 0.2 * CO2.h_0(Temperature) + 19.6 * 0 # J/mol\n",
        "q_p_CH4 = abs(h_products - h_reactants) / (9.8 * 1000) # kJ/mol --> LHV as gaseous H2O is produced\n",
        "print(f\"The energy released by the combustion of a 98% CH4 biogas sample is {q_p_CH4:.3f} kJ/mol.\")\n",
        "\n",
        "# Carbon intensity of C3H8 combustion\n",
        "# ---------------------------------------------------\n",
        "# I_CO2 = m_CO2 / q_p \n",
        "I_CO2_CH4 = 10 * CO2.molecular_wt / (q_p_CH4) # g_CO2 / k\n",
        "print(f\"The carbon intensity of a 98% CH4 biogas sample's combustion is {I_CO2_CH4:.3f} g of CO2/kJ.\\n\")\n",
        "\n",
        "# Coal combustion efficiency\n",
        "# combustion energy yield per one mole of coal under constant pressure\n",
        "# ---------------------------------------------------\n",
        "# C(s) + O2 -> CO2\n",
        "h_products = CO2.h_0(Temperature) # J/mol\n",
        "h_reactants = 0 + 0 # J/mol\n",
        "q_p_coal = abs(h_products - h_reactants) / 1000 # kJ/mol\n",
        "print(f\"The energy released by the combustion of coal is {q_p_coal:.3f} kJ/mol.\")\n",
        "\n",
        "# Carbon intensity of coal combustion\n",
        "# ---------------------------------------------------\n",
        "# I_CO2_coal = m_CO2 / q_p_coal \n",
        "I_CO2_coal = 1 * CO2.molecular_wt / q_p_coal # g_CO2 / kJ\n",
        "print(f\"The carbon intensity of coal combustion is {I_CO2_coal:.3f} g of CO2/kJ.\\n\")\n",
        "\n",
        "# Petrol (Octane) combustion efficiency\n",
        "# combustion energy yield per one mole of C8H18 under constant pressure\n",
        "# ---------------------------------------------------\n",
        "# 2 * C8H18 + 25 * O2 -> 16 * CO2 + 18 * H2O(g)\n",
        "h_products = 16 * CO2.h_0(Temperature) + 18 * H2O_g.h_0(Temperature) # J/mol\n",
        "h_reactants = 2 * C8H18.h_0(Temperature) + 25 * 0 # J/mol\n",
        "q_p_C8H18 = abs(h_products - h_reactants) / (2 * 1000) # kJ/mol --> LHV as gaseous H2O is produced\n",
        "print(f\"The energy released by the combustion of C8H18 is {q_p_C8H18:.3f} kJ/mol.\")\n",
        "\n",
        "# Carbon intensity of C8H18 combustion\n",
        "# ---------------------------------------------------\n",
        "# I_CO2 = m_CO2 / q_p \n",
        "I_CO2_C8H18 = 16 * CO2.molecular_wt / (q_p_C8H18) # g_CO2 / k\n",
        "print(f\"The carbon intensity of C8H18 combustion is {I_CO2_C8H18:.3f} g of CO2/kJ.\\n\")\n",
        "\n",
        "# Propane combustion efficiency\n",
        "# combustion energy yield per one mole of C3H8 under constant pressure\n",
        "# ---------------------------------------------------\n",
        "# C3H8(g) + 5 * O2 -> 3 * CO2 + 4 * H2O(g)\n",
        "h_products = 3 * CO2.h_0(Temperature) + 4 * H2O_g.h_0(Temperature) # J/mol\n",
        "h_reactants = C3H8.h_0(Temperature) + 5 * 0 # J/mol\n",
        "q_p_C3H8 = abs(h_products - h_reactants) / 1000 # kJ/mol --> LHV as gaseous H2O is produced\n",
        "print(f\"The energy released by the combustion of C8H18 is {q_p_C3H8:.3f} kJ/mol.\")\n",
        "\n",
        "# Carbon intensity of C3H8 combustion\n",
        "# ---------------------------------------------------\n",
        "# I_CO2 = m_CO2 / q_p \n",
        "I_CO2_C3H8 = 3 * CO2.molecular_wt / (q_p_C3H8) # g_CO2 / k\n",
        "print(f\"The carbon intensity of C8H18 combustion is {I_CO2_C3H8:.3f} g of CO2/kJ.\\n\")"
      ],
      "metadata": {
        "colab": {
          "base_uri": "https://localhost:8080/"
        },
        "id": "LQmVV25ulydn",
        "outputId": "7977fc9e-1eb1-451e-e739-65f8f41bedaa"
      },
      "execution_count": 49,
      "outputs": [
        {
          "output_type": "stream",
          "name": "stdout",
          "text": [
            "The energy released by the combustion of a 98% CH4 biogas sample is 802.561 kJ/mol.\n",
            "The carbon intensity of a 98% CH4 biogas sample's combustion is 0.548 g of CO2/kJ.\n",
            "\n",
            "The energy released by the combustion of coal is 393.510 kJ/mol.\n",
            "The carbon intensity of coal combustion is 0.112 g of CO2/kJ.\n",
            "\n",
            "The energy released by the combustion of C8H18 is 5065.348 kJ/mol.\n",
            "The carbon intensity of C8H18 combustion is 0.139 g of CO2/kJ.\n",
            "\n",
            "The energy released by the combustion of C8H18 is 2043.152 kJ/mol.\n",
            "The carbon intensity of C8H18 combustion is 0.065 g of CO2/kJ.\n",
            "\n"
          ]
        }
      ]
    },
    {
      "cell_type": "code",
      "source": [
        "# graphing hehe\n"
      ],
      "metadata": {
        "id": "CFveTBy_x6ut"
      },
      "execution_count": null,
      "outputs": []
    }
  ],
  "metadata": {
    "colab": {
      "name": "MITES 2022 Final Project_Thermodynamics & Climate Change.ipynb",
      "provenance": [],
      "collapsed_sections": []
    },
    "kernelspec": {
      "display_name": "Python 3",
      "name": "python3"
    },
    "language_info": {
      "name": "python"
    }
  },
  "nbformat": 4,
  "nbformat_minor": 0
}