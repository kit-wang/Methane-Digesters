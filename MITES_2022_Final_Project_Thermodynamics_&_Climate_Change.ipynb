{
  "cells": [
    {
      "cell_type": "code",
      "execution_count": 3,
      "metadata": {
        "colab": {
          "base_uri": "https://localhost:8080/"
        },
        "id": "0dM54caI5eOC",
        "outputId": "ad7f70f6-335d-4dd0-fb8d-21ed5b77741f"
      },
      "outputs": [
        {
          "output_type": "stream",
          "name": "stdout",
          "text": [
            "Looking in indexes: https://pypi.org/simple, https://us-python.pkg.dev/colab-wheels/public/simple/\n",
            "Requirement already satisfied: coolprop in /usr/local/lib/python3.7/dist-packages (6.4.1)\n",
            "Looking in indexes: https://pypi.org/simple, https://us-python.pkg.dev/colab-wheels/public/simple/\n",
            "Requirement already satisfied: pandas in /usr/local/lib/python3.7/dist-packages (1.3.5)\n",
            "Requirement already satisfied: pytz>=2017.3 in /usr/local/lib/python3.7/dist-packages (from pandas) (2022.1)\n",
            "Requirement already satisfied: numpy>=1.17.3 in /usr/local/lib/python3.7/dist-packages (from pandas) (1.21.6)\n",
            "Requirement already satisfied: python-dateutil>=2.7.3 in /usr/local/lib/python3.7/dist-packages (from pandas) (2.8.2)\n",
            "Requirement already satisfied: six>=1.5 in /usr/local/lib/python3.7/dist-packages (from python-dateutil>=2.7.3->pandas) (1.15.0)\n",
            "Looking in indexes: https://pypi.org/simple, https://us-python.pkg.dev/colab-wheels/public/simple/\n",
            "Collecting git+https://github.com/ptgodart/nasaPoly.git\n",
            "  Cloning https://github.com/ptgodart/nasaPoly.git to /tmp/pip-req-build-vguebc92\n",
            "  Running command git clone -q https://github.com/ptgodart/nasaPoly.git /tmp/pip-req-build-vguebc92\n"
          ]
        }
      ],
      "source": [
        "!pip3 install coolprop\n",
        "!pip3 install pandas\n",
        "!pip3 install --upgrade git+https://github.com/ptgodart/nasaPoly.git\n",
        "from CoolProp.constants import PT_INPUTS\n",
        "import CoolProp as cp\n",
        "import numpy as np\n",
        "from matplotlib import pyplot as plt\n",
        "import nasaPoly\n"
      ]
    },
    {
      "cell_type": "markdown",
      "source": [
        "# Anaerobic Sequencing Batch Reactor (ASBR) Cycle\n",
        "Modelling electrical energy and biogas yield"
      ],
      "metadata": {
        "id": "twHE9Y9wZSzV"
      }
    },
    {
      "cell_type": "code",
      "source": [
        ""
      ],
      "metadata": {
        "id": "7GNBjIzoZVEL"
      },
      "execution_count": null,
      "outputs": []
    },
    {
      "cell_type": "markdown",
      "source": [
        "# Efficiency Evaluation of Biogas Applications as Fuel\n",
        "A side-by-side comparison with existing nonrenewable fuel sources"
      ],
      "metadata": {
        "id": "Vl4kR5wdhmFD"
      }
    },
    {
      "cell_type": "code",
      "source": [
        "# Parameterization & Initialization\n",
        "\n",
        "Temperature = 298.15 # K\n",
        "\n",
        "Coal = nasaPoly.Species('C')\n",
        "O2 = nasaPoly.Species('O2')\n",
        "CO2 = nasaPoly.Species('CO2')\n",
        "C8H18 = nasaPoly.Species('C8H18(L),isooct')\n",
        "H2O_g = nasaPoly.Species('H2O')\n",
        "C3H8 = nasaPoly.Species('C3H8')\n",
        "CH4 = nasaPoly.Species('CH4')\n",
        "\n",
        "molar_energies = list()\n",
        "carbon_intensities = list()"
      ],
      "metadata": {
        "id": "NkSNKhxLoXQo"
      },
      "execution_count": 43,
      "outputs": []
    },
    {
      "cell_type": "code",
      "source": [
        "# Biogas combustion efficiency\n",
        "# combustion energy yield per one mole of biogas under constant pressure\n",
        "# ---------------------------------------------------\n",
        "# Based on a separation of species in biogas to 98% CH4, 2.0% CO2\n",
        "# 9.8 * CH4 + 0.2 * CO2 + 19.6 * O2 -> (9.8 + 0.2) * CO2 + 19.6 * H2O(g)\n",
        "h_products = 10 * CO2.h_0(Temperature) + 19.6 * H2O_g.h_0(Temperature) # J/mol\n",
        "h_reactants = 9.8 * CH4.h_0(Temperature) + 0.2 * CO2.h_0(Temperature) + 19.6 * 0 # J/mol\n",
        "q_p_CH4 = abs(h_products - h_reactants) / (9.8 * 1000) # kJ/mol --> LHV as gaseous H2O is \n",
        "print(f\"The energy released by the combustion of a 98% CH4 biogas sample is {q_p_CH4:.3f} kJ/mol.\")\n",
        "\n",
        "# Carbon intensity of C3H8 combustion\n",
        "# ---------------------------------------------------\n",
        "# I_CO2 = m_CO2 / q_p \n",
        "I_CO2_CH4 = 10 * CO2.molecular_wt / (q_p_CH4) # g_CO2 / k\n",
        "print(f\"The carbon intensity of a 98% CH4 biogas sample's combustion is {I_CO2_CH4:.3f} g of CO2/kJ.\\n\")\n",
        "\n",
        "# Coal combustion efficiency\n",
        "# combustion energy yield per one mole of coal under constant pressure\n",
        "# ---------------------------------------------------\n",
        "# C(s) + O2 -> CO2\n",
        "h_products = CO2.h_0(Temperature) # J/mol\n",
        "h_reactants = 0 + 0 # J/mol\n",
        "q_p_coal = abs(h_products - h_reactants) / 1000 # kJ/mol\n",
        "print(f\"The energy released by the combustion of coal is {q_p_coal:.3f} kJ/mol.\")\n",
        "\n",
        "# Carbon intensity of coal combustion\n",
        "# ---------------------------------------------------\n",
        "# I_CO2_coal = m_CO2 / q_p_coal \n",
        "I_CO2_coal = 1 * CO2.molecular_wt / q_p_coal # g_CO2 / kJ\n",
        "print(f\"The carbon intensity of coal combustion is {I_CO2_coal:.3f} g of CO2/kJ.\\n\")\n",
        "\n",
        "# Petrol (Octane) combustion efficiency\n",
        "# combustion energy yield per one mole of C8H18 under constant pressure\n",
        "# ---------------------------------------------------\n",
        "# 2 * C8H18 + 25 * O2 -> 16 * CO2 + 18 * H2O(g)\n",
        "h_products = 16 * CO2.h_0(Temperature) + 18 * H2O_g.h_0(Temperature) # J/mol\n",
        "h_reactants = 2 * C8H18.h_0(Temperature) + 25 * 0 # J/mol\n",
        "q_p_C8H18 = abs(h_products - h_reactants) / (2 * 1000) # kJ/mol --> LHV as gaseous H2O is produced\n",
        "print(f\"The energy released by the combustion of C8H18 is {q_p_C8H18:.3f} kJ/mol.\")\n",
        "\n",
        "# Carbon intensity of C8H18 combustion\n",
        "# ---------------------------------------------------\n",
        "# I_CO2 = m_CO2 / q_p \n",
        "I_CO2_C8H18 = 16 * CO2.molecular_wt / (q_p_C8H18) # g_CO2 / k\n",
        "print(f\"The carbon intensity of C8H18 combustion is {I_CO2_C8H18:.3f} g of CO2/kJ.\\n\")\n",
        "\n",
        "# Propane combustion efficiency\n",
        "# combustion energy yield per one mole of C3H8 under constant pressure\n",
        "# ---------------------------------------------------\n",
        "# C3H8(g) + 5 * O2 -> 3 * CO2 + 4 * H2O(g)\n",
        "h_products = 3 * CO2.h_0(Temperature) + 4 * H2O_g.h_0(Temperature) # J/mol\n",
        "h_reactants = C3H8.h_0(Temperature) + 5 * 0 # J/mol\n",
        "q_p_C3H8 = abs(h_products - h_reactants) / 1000 # kJ/mol --> LHV as gaseous H2O is produced\n",
        "print(f\"The energy released by the combustion of C8H18 is {q_p_C3H8:.3f} kJ/mol.\")\n",
        "\n",
        "# Carbon intensity of C3H8 combustion\n",
        "# ---------------------------------------------------\n",
        "# I_CO2 = m_CO2 / q_p \n",
        "I_CO2_C3H8 = 3 * CO2.molecular_wt / (q_p_C3H8) # g_CO2 / k\n",
        "print(f\"The carbon intensity of biogas combustion is {I_CO2_C3H8:.3f} g of CO2/kJ.\\n\")"
      ],
      "metadata": {
        "colab": {
          "base_uri": "https://localhost:8080/"
        },
        "id": "LQmVV25ulydn",
        "outputId": "ec0854cc-7033-4eef-e865-a13cfb5c6025"
      },
      "execution_count": 44,
      "outputs": [
        {
          "output_type": "stream",
          "name": "stdout",
          "text": [
            "The energy released by the combustion of a 98% CH4 biogas sample is 802.561 kJ/mol.\n",
            "The carbon intensity of a 98% CH4 biogas sample's combustion is 0.548 g of CO2/kJ.\n",
            "\n",
            "The energy released by the combustion of coal is 393.510 kJ/mol.\n",
            "The carbon intensity of coal combustion is 0.112 g of CO2/kJ.\n",
            "\n",
            "The energy released by the combustion of C8H18 is 5065.348 kJ/mol.\n",
            "The carbon intensity of C8H18 combustion is 0.139 g of CO2/kJ.\n",
            "\n",
            "The energy released by the combustion of C8H18 is 2043.152 kJ/mol.\n",
            "The carbon intensity of biogas combustion is 0.065 g of CO2/kJ.\n",
            "\n"
          ]
        }
      ]
    },
    {
      "cell_type": "code",
      "source": [
        "# graphing hehe\n",
        "import pandas as pd\n",
        "from io import StringIO\n",
        "\n",
        "energies = [q_p_coal, q_p_C8H18, q_p_C3H8, q_p_CH4]\n",
        "intensities = [I_CO2_coal, I_CO2_C8H18, I_CO2_C3H8, I_CO2_CH4]\n",
        "data_blob = StringIO(f'''    energies    intensities\n",
        "Coal    {energies[0]}    {intensities[0]}\n",
        "Petrol    {energies[1]}    {intensities[1]}\n",
        "Propane    {energies[2]}    {intensities[2]}\n",
        "Biogas    {energies[3]}    {intensities[3]}\n",
        "''')\n",
        "df = pd.read_csv(data_blob, index_col=0, delimiter=' ', skipinitialspace=True)\n",
        "\n",
        "fig = plt.figure() # Create matplotlib figure\n",
        "\n",
        "ax = fig.add_subplot(111) # Create matplotlib axes\n",
        "ax2 = ax.twinx() # Create another axes that shares the same x-axis as ax.\n",
        "\n",
        "width = 0.3\n",
        "\n",
        "df.energies.plot(kind='bar', color='red', ax=ax, width=width, position=1)\n",
        "df.intensities.plot(kind='bar', color='blue', ax=ax2, width=width, position=0)\n",
        "bars = [\"Molar energy release\", \"Carbon intensity\"]\n",
        "ax.set_ylabel('$q_p$ [kJ/mol]')\n",
        "ax2.set_ylabel('$I_{CO_2}$ [$g_{CO_2}$/kJ]')\n",
        "ax.legend([\"Molar energy release\"], bbox_to_anchor=(1.58, 0.85))\n",
        "ax2.legend([\"Carbon intensity\"], bbox_to_anchor=(1.2, 1))\n",
        "plt.show()"
      ],
      "metadata": {
        "colab": {
          "base_uri": "https://localhost:8080/",
          "height": 296
        },
        "id": "CFveTBy_x6ut",
        "outputId": "f5bb1e38-6315-4733-e349-0d7b94be1e03"
      },
      "execution_count": 45,
      "outputs": [
        {
          "output_type": "display_data",
          "data": {
            "text/plain": [
              "<Figure size 432x288 with 2 Axes>"
            ],
            "image/png": "[encoded data removed]"
          },
          "metadata": {
            "needs_background": "light"
          }
        }
      ]
    }
  ],
  "metadata": {
    "colab": {
      "name": "MITES 2022 Final Project_Thermodynamics & Climate Change.ipynb",
      "provenance": [],
      "collapsed_sections": []
    },
    "kernelspec": {
      "display_name": "Python 3",
      "name": "python3"
    },
    "language_info": {
      "name": "python"
    }
  },
  "nbformat": 4,
  "nbformat_minor": 0
}