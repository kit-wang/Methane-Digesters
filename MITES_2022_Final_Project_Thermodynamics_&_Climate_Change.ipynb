{
  "cells": [
    {
      "cell_type": "code",
      "execution_count": null,
      "metadata": {
        "colab": {
          "base_uri": "https://localhost:8080/"
        },
        "id": "0dM54caI5eOC",
        "outputId": "2c5f397e-2188-48b8-8485-ce7e8ebaf20f"
      },
      "outputs": [
        {
          "output_type": "stream",
          "name": "stdout",
          "text": [
            "Looking in indexes: https://pypi.org/simple, https://us-python.pkg.dev/colab-wheels/public/simple/\n",
            "Collecting coolprop\n",
            "  Downloading CoolProp-6.4.1-cp37-cp37m-manylinux_2_17_x86_64.manylinux2014_x86_64.whl (44.2 MB)\n",
            "\u001b[K     |████████████████████████████████| 44.2 MB 1.3 MB/s \n",
            "\u001b[?25hInstalling collected packages: coolprop\n",
            "Successfully installed coolprop-6.4.1\n",
            "Looking in indexes: https://pypi.org/simple, https://us-python.pkg.dev/colab-wheels/public/simple/\n",
            "Collecting git+https://github.com/ptgodart/nasaPoly.git\n",
            "  Cloning https://github.com/ptgodart/nasaPoly.git to /tmp/pip-req-build-lfuv_k2o\n",
            "  Running command git clone -q https://github.com/ptgodart/nasaPoly.git /tmp/pip-req-build-lfuv_k2o\n",
            "Building wheels for collected packages: nasaPoly\n",
            "  Building wheel for nasaPoly (setup.py) ... \u001b[?25l\u001b[?25hdone\n",
            "  Created wheel for nasaPoly: filename=nasaPoly-0.0.1-py3-none-any.whl size=275528 sha256=1513db0c19b7303567fc5f0154cd37d15e8820f7233a64a194c3e889420eb141\n",
            "  Stored in directory: /tmp/pip-ephem-wheel-cache-wmigt07k/wheels/0d/3b/36/9129e6f4450281e6d729bb6c955067eab00b0c9c63a572818c\n",
            "Successfully built nasaPoly\n",
            "Installing collected packages: nasaPoly\n",
            "Successfully installed nasaPoly-0.0.1\n"
          ]
        }
      ],
      "source": [
        "!pip3 install coolprop\n",
        "!pip3 install --upgrade git+https://github.com/ptgodart/nasaPoly.git\n",
        "from CoolProp.constants import PT_INPUTS\n",
        "import CoolProp as cp\n",
        "import numpy as np\n",
        "from matplotlib import pyplot as plt\n"
      ]
    },
    {
      "cell_type": "code",
      "source": [
        "#@title Running All Cells\n",
        "%%HTML\n",
        "<button id=\"do_run_all\">Click to run all</button>\n",
        "<script>\n",
        "$(\"#do_run_all\").click(\n",
        "    function() {\n",
        "        $(\"https://colab.research.google.com/drive/1nirDsSKnlI06XxFPIzac4eDU0PFVgRZM#scrollTo=LQmVV25ulydn&line=1&uniqifier=1\").click();\n",
        "    }\n",
        ");\n",
        "</script>\n",
        "\n",
        "\n",
        "    "
      ],
      "metadata": {
        "id": "b3mRIzzq8y2L",
        "colab": {
          "base_uri": "https://localhost:8080/",
          "height": 38
        },
        "cellView": "form",
        "outputId": "41ed1226-6556-429e-bc0d-fe3d0a3de0a0"
      },
      "execution_count": null,
      "outputs": [
        {
          "output_type": "display_data",
          "data": {
            "text/plain": [
              "<IPython.core.display.HTML object>"
            ],
            "text/html": [
              "<button id=\"do_run_all\">Click to run all</button>\n",
              "<script>\n",
              "$(\"#do_run_all\").click(\n",
              "    function() {\n",
              "        $(\"https://colab.research.google.com/drive/1nirDsSKnlI06XxFPIzac4eDU0PFVgRZM#scrollTo=LQmVV25ulydn&line=1&uniqifier=1\").click();\n",
              "    }\n",
              ");\n",
              "</script>\n",
              "\n",
              "\n",
              "    "
            ]
          },
          "metadata": {}
        }
      ]
    },
    {
      "cell_type": "markdown",
      "source": [
        "# Efficiency Evaluation of Biogas Applications as Fuel\n",
        "A side-by-side comparison with existing nonrenewable fuel sources"
      ],
      "metadata": {
        "id": "Vl4kR5wdhmFD"
      }
    },
    {
      "cell_type": "code",
      "source": [
        "# Parameterization & Initialization\n",
        "\n",
        "Temperature = 298.15 # K\n",
        "Coal = nasaPoly.Species('C')\n",
        "O2 = nasaPoly.Species('O2')\n",
        "CO2 = nasaPoly.Species('CO2')\n",
        "C8H18 = nasaPoly.Species('C8H18(L),isooct')\n",
        "H2O_g = nasaPoly.Species('H2O')\n",
        "C3H8 = nasaPoly.Species('C3H8')\n",
        "CH4 = nasaPoly.Species('CH4')\n",
        "\n",
        "molar_energies = list()\n",
        "carbon_intensities = list()"
      ],
      "metadata": {
        "id": "NkSNKhxLoXQo"
      },
      "execution_count": 42,
      "outputs": []
    },
    {
      "cell_type": "code",
      "source": [
        "import nasaPoly\n",
        "# nasaPoly.listSpecies()\n",
        "\n",
        "# Coal combustion efficiency\n",
        "# combustion energy yield per one mole of coal under constant pressure\n",
        "# ---------------------------------------------------\n",
        "# C(s) + O2 -> CO2\n",
        "h_products = CO2.h_0(Temperature) # J/mol\n",
        "h_reactants = 0 + 0 # J/mol\n",
        "q_p_coal = abs(h_products - h_reactants) / 1000 # kJ/mol\n",
        "print(f\"The energy released by the combustion of coal is {q_p_coal:.3f} kJ/mol.\")\n",
        "\n",
        "# Carbon intensity of coal combustion\n",
        "# ---------------------------------------------------\n",
        "# I_CO2_coal = m_CO2 / q_p_coal \n",
        "I_CO2_coal = 1 * CO2.molecular_wt / q_p_coal # g_CO2 / kJ\n",
        "print(f\"The carbon intensity of coal combustion is {I_CO2_coal:.3f} g of CO2/kJ.\\n\")\n",
        "\n",
        "# Petrol (Octane) combustion efficiency\n",
        "# combustion energy yield per one mole of C8H18 under constant pressure\n",
        "# ---------------------------------------------------\n",
        "# 2 * C8H18 + 25 * O2 -> 16 * CO2 + 18 * H2O(g)\n",
        "h_products = 16 * CO2.h_0(Temperature) + 18 * H2O_g.h_0(Temperature) # J/mol\n",
        "h_reactants = 2 * C8H18.h_0(Temperature) + 25 * 0 # J/mol\n",
        "q_p_C8H18 = abs(h_products - h_reactants) / (2 * 1000) # kJ/mol --> LHV as gaseous H2O is produced\n",
        "print(f\"The energy released by the combustion of C8H18 is {q_p_C8H18:.3f} kJ/mol.\")\n",
        "\n",
        "# Carbon intensity of C8H18 combustion\n",
        "# ---------------------------------------------------\n",
        "# I_CO2 = m_CO2 / q_p \n",
        "I_CO2_C8H18 = 16 * CO2.molecular_wt / (q_p_C8H18) # g_CO2 / k\n",
        "print(f\"The carbon intensity of C8H18 combustion is {I_CO2_C8H18:.3f} g of CO2/kJ.\\n\")\n",
        "\n",
        "# Propane combustion efficiency\n",
        "# combustion energy yield per one mole of C3H8 under constant pressure\n",
        "# ---------------------------------------------------\n",
        "# C3H8(g) + 5 * O2 -> 3 * CO2 + 4 * H2O(g)\n",
        "h_products = 3 * CO2.h_0(Temperature) + 4 * H2O_g.h_0(Temperature) # J/mol\n",
        "h_reactants = C3H8.h_0(Temperature) + 5 * 0 # J/mol\n",
        "q_p_C3H8 = abs(h_products - h_reactants) / 1000 # kJ/mol --> LHV as gaseous H2O is produced\n",
        "print(f\"The energy released by the combustion of C8H18 is {q_p_C3H8:.3f} kJ/mol.\")\n",
        "\n",
        "# Carbon intensity of C3H8 combustion\n",
        "# ---------------------------------------------------\n",
        "# I_CO2 = m_CO2 / q_p \n",
        "I_CO2_C3H8 = 3 * CO2.molecular_wt / (q_p_C3H8) # g_CO2 / k\n",
        "print(f\"The carbon intensity of C8H18 combustion is {I_CO2_C3H8:.3f} g of CO2/kJ.\\n\")"
      ],
      "metadata": {
        "colab": {
          "base_uri": "https://localhost:8080/"
        },
        "id": "LQmVV25ulydn",
        "outputId": "47a422ee-cf0c-487c-a33f-69dc10940727"
      },
      "execution_count": 43,
      "outputs": [
        {
          "output_type": "stream",
          "name": "stdout",
          "text": [
            "The energy released by the combustion of coal is 393.510 kJ/mol.\n",
            "The carbon intensity of coal combustion is 0.112 g of CO2/kJ.\n",
            "\n",
            "The energy released by the combustion of C8H18 is 5065.348 kJ/mol.\n",
            "The carbon intensity of C8H18 combustion is 0.139 g of CO2/kJ.\n",
            "\n",
            "The energy released by the combustion of C8H18 is 2043.152 kJ/mol.\n",
            "The carbon intensity of C8H18 combustion is 0.065 g of CO2/kJ.\n",
            "\n"
          ]
        }
      ]
    },
    {
      "cell_type": "code",
      "source": [
        "# Biogas combustion efficiency\n",
        "# combustion energy yield per one mole of biogas\n",
        "# ---------------------------------------------------"
      ],
      "metadata": {
        "id": "wihXovxdT5Ng"
      },
      "execution_count": 44,
      "outputs": []
    }
  ],
  "metadata": {
    "colab": {
      "name": "MITES 2022 Final Project_Thermodynamics & Climate Change.ipynb",
      "provenance": [],
      "collapsed_sections": []
    },
    "kernelspec": {
      "display_name": "Python 3",
      "name": "python3"
    },
    "language_info": {
      "name": "python"
    }
  },
  "nbformat": 4,
  "nbformat_minor": 0
}